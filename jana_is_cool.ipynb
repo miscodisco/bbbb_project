{
 "cells": [
  {
   "cell_type": "code",
   "execution_count": 75,
   "id": "f1865f7c",
   "metadata": {},
   "outputs": [],
   "source": [
    "import os \n",
    "import json \n",
    "import pandas as pd\n",
    "\n",
    "from datetime import datetime"
   ]
  },
  {
   "cell_type": "code",
   "execution_count": 83,
   "id": "44cc7f22",
   "metadata": {},
   "outputs": [],
   "source": [
    "data = []"
   ]
  },
  {
   "cell_type": "code",
   "execution_count": 84,
   "id": "748ad46b",
   "metadata": {},
   "outputs": [],
   "source": [
    "dir = \"data/music_related/\"\n",
    "ignore_files = [\"all_music_tweets.ndjson\", \".ipynb_checkpoints\"] # ignore these files in the iteration \n",
    "\n",
    "for file in os.listdir(dir):\n",
    "    if file not in ignore_files: \n",
    "        with open(dir + file) as f:\n",
    "            lines = f.readlines()\n",
    "            \n",
    "            for line in lines:\n",
    "                tweet = json.loads(line.strip())\n",
    "                \n",
    "                if not tweet[\"text\"].startswith(\"RT @\"):\n",
    "                    tweet_data = {}\n",
    "                    tweet_data[\"id\"] = tweet[\"id\"]\n",
    "                    tweet_data[\"user_id\"] = tweet[\"from_user_id\"]\n",
    "                         \n",
    "                    date = datetime.strptime(tweet[\"created_at\"], \"%a %b %d %H:%M:%S %z %Y\")\n",
    "                    tweet_data[\"date\"] = date.date()\n",
    "\n",
    "                    tweet_data[\"texts\"] = tweet[\"text\"].strip()\n",
    "                    \n",
    "                    tweet_data[\"country\"] = tweet[\"user_location\"][\"country_code\"]\n",
    "                    if \"state\" in tweet[\"user_location\"].keys():\n",
    "                        tweet_data[\"state\"] = tweet[\"user_location\"][\"state\"]\n",
    "                    else: \n",
    "                        tweet_data[\"state\"] = \"\"\n",
    "               \n",
    "                    data.append(tweet_data)"
   ]
  },
  {
   "cell_type": "code",
   "execution_count": 85,
   "id": "62f1c5a4",
   "metadata": {},
   "outputs": [],
   "source": [
    "df = pd.DataFrame(data=data)"
   ]
  },
  {
   "cell_type": "code",
   "execution_count": 86,
   "id": "61477d0c",
   "metadata": {},
   "outputs": [],
   "source": [
    "df.to_csv(\"test.csv\", index=False)"
   ]
  },
  {
   "cell_type": "code",
   "execution_count": null,
   "id": "dbc9d146",
   "metadata": {},
   "outputs": [],
   "source": []
  }
 ],
 "metadata": {
  "kernelspec": {
   "display_name": "Python 3 (ipykernel)",
   "language": "python",
   "name": "python3"
  },
  "language_info": {
   "codemirror_mode": {
    "name": "ipython",
    "version": 3
   },
   "file_extension": ".py",
   "mimetype": "text/x-python",
   "name": "python",
   "nbconvert_exporter": "python",
   "pygments_lexer": "ipython3",
   "version": "3.9.1"
  }
 },
 "nbformat": 4,
 "nbformat_minor": 5
}
